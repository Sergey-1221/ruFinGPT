{
 "cells": [
  {
   "cell_type": "code",
   "execution_count": 1,
   "id": "8d2ca0e0-b1af-4bdc-8feb-97eccf230c6d",
   "metadata": {},
   "outputs": [],
   "source": [
    "from transformers import AutoModelForCausalLM, AutoTokenizer, pipeline, BitsAndBytesConfig\n",
    "from peft import PeftModel\n",
    "import torch\n",
    "from trl import setup_chat_format"
   ]
  },
  {
   "cell_type": "code",
   "execution_count": 2,
   "id": "f701b353-87dc-4f59-aaca-614cada8ab02",
   "metadata": {},
   "outputs": [],
   "source": [
    "model_name = \"NousResearch/Meta-Llama-3.1-8B-Instruct\"\n",
    "new_model = \"Llama3.1-ruFinGPT\""
   ]
  },
  {
   "cell_type": "code",
   "execution_count": 3,
   "id": "01bb81c1-0e43-45b8-a818-a3f942996f8d",
   "metadata": {},
   "outputs": [
    {
     "data": {
      "application/vnd.jupyter.widget-view+json": {
       "model_id": "1a1469eaa7254bd79b5145fd49cb7b78",
       "version_major": 2,
       "version_minor": 0
      },
      "text/plain": [
       "Loading checkpoint shards:   0%|          | 0/4 [00:00<?, ?it/s]"
      ]
     },
     "metadata": {},
     "output_type": "display_data"
    }
   ],
   "source": [
    "tokenizer = AutoTokenizer.from_pretrained(model_name)\n",
    "\n",
    "bnb_config = BitsAndBytesConfig(\n",
    "    load_in_4bit=True,\n",
    "    bnb_4bit_quant_type=\"nf4\",\n",
    "    bnb_4bit_compute_dtype=torch.float16,\n",
    "    bnb_4bit_use_double_quant=True,\n",
    ")\n",
    "\n",
    "base_model_reload = AutoModelForCausalLM.from_pretrained(\n",
    "        model_name,\n",
    "        return_dict=True,\n",
    "        low_cpu_mem_usage=True,\n",
    "        torch_dtype=torch.float16,\n",
    "        device_map=\"auto\",\n",
    "        trust_remote_code=True,\n",
    "        quantization_config=bnb_config,\n",
    ")"
   ]
  },
  {
   "cell_type": "code",
   "execution_count": 4,
   "id": "611e50d7-aaf8-423b-a0d8-200d7f4d036a",
   "metadata": {},
   "outputs": [
    {
     "name": "stderr",
     "output_type": "stream",
     "text": [
      "C:\\Users\\Sergey\\.conda\\envs\\edok\\Lib\\site-packages\\peft\\tuners\\lora\\bnb.py:336: UserWarning: Merge lora module to 4-bit linear may get different generations due to rounding errors.\n",
      "  warnings.warn(\n"
     ]
    }
   ],
   "source": [
    "base_model_reload, tokenizer = setup_chat_format(base_model_reload, tokenizer)\n",
    "\n",
    "# Merge adapter with base model\n",
    "model = PeftModel.from_pretrained(base_model_reload, new_model)\n",
    "\n",
    "model = model.merge_and_unload()"
   ]
  },
  {
   "cell_type": "code",
   "execution_count": 7,
   "id": "e9725d66-10c8-4689-baf1-9b2962dfddd3",
   "metadata": {},
   "outputs": [
    {
     "name": "stdout",
     "output_type": "stream",
     "text": [
      "<|im_start|>assistant\n",
      "Какая тональность у этой новости? Пожалуйста, выберите вариант ответа из {сильно негативно/умеренно негативно/слабо негативно/нейтрально/слабо позитивно/умеренно позитивно/сильно позитивно}.<|im_end|>\n",
      "<|im_start|>user\n",
      "Чистая прибыль РусГидро по РСБУ за 1 полугодие выросла на 17%<|im_end|>\n",
      "<|im_start|>assistant\n",
      "\n",
      "<|im_start|>assistant\n",
      "Какая тональность у этой новости? Пожалуйста, выберите вариант ответа из {сильно негативно/умеренно негативно/слабо негативно/нейтрально/слабо позитивно/умеренно позитивно/сильно позитивно}.<|im_end|>\n",
      "<|im_start|>user\n",
      "Чистая прибыль РусГидро по РСБУ за 1 полугодие выросла на 17%<|im_end|>\n",
      "<|im_start|>assistant\n",
      "умеренно позитивно\n",
      "assistant\n",
      "Учитывая, что РусГидро является крупнейшим производителем электроэнергии в России, рост чистой прибыли на 17% в первом полугодии 2022 года является значительным достижением. Это связано с тем, что компания продолжает увеличивать производство электроэнергии, а также снизила затраты на топливо и другие расходы. Кроме того, РусГидро продолжает расширять свою географию, в\n"
     ]
    }
   ],
   "source": [
    "messages = [\n",
    "    {\n",
    "        \"role\": \"system\", \n",
    "        \"content\": \"Какая тональность у этой новости? Пожалуйста, выберите вариант ответа из {сильно негативно/умеренно негативно/слабо негативно/нейтрально/слабо позитивно/умеренно позитивно/сильно позитивно}.\"\n",
    "    },   \n",
    "    {\n",
    "        \"role\": \"user\",\n",
    "        \"content\": \"Чистая прибыль РусГидро по РСБУ за 1 полугодие выросла на 17%\"\n",
    "    }\n",
    "]\n",
    "\n",
    "prompt = tokenizer.apply_chat_template(messages, tokenize=False, add_generation_prompt=True)\n",
    "print(prompt)\n",
    "pipe = pipeline(\n",
    "    \"text-generation\",\n",
    "    model=base_model_reload,\n",
    "    tokenizer=tokenizer,\n",
    "    torch_dtype=torch.float16,\n",
    "    device_map=\"auto\",\n",
    ")\n",
    "\n",
    "outputs = pipe(prompt, max_new_tokens=120, do_sample=True, temperature=1, top_k=1, top_p=1)\n",
    "print(outputs[0][\"generated_text\"])"
   ]
  },
  {
   "cell_type": "code",
   "execution_count": null,
   "id": "0d29d8f9-c81b-4314-8943-92bbd1363e9a",
   "metadata": {},
   "outputs": [],
   "source": []
  },
  {
   "cell_type": "code",
   "execution_count": null,
   "id": "7b9b53a2-14e7-48c2-a0f2-b042620a68ee",
   "metadata": {},
   "outputs": [],
   "source": []
  }
 ],
 "metadata": {
  "kernelspec": {
   "display_name": "Python 3 (ipykernel)",
   "language": "python",
   "name": "python3"
  },
  "language_info": {
   "codemirror_mode": {
    "name": "ipython",
    "version": 3
   },
   "file_extension": ".py",
   "mimetype": "text/x-python",
   "name": "python",
   "nbconvert_exporter": "python",
   "pygments_lexer": "ipython3",
   "version": "3.11.9"
  }
 },
 "nbformat": 4,
 "nbformat_minor": 5
}
