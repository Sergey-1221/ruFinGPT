{
 "cells": [
  {
   "cell_type": "code",
   "execution_count": 1,
   "id": "8d2ca0e0-b1af-4bdc-8feb-97eccf230c6d",
   "metadata": {},
   "outputs": [],
   "source": [
    "from transformers import AutoModelForCausalLM, AutoTokenizer, pipeline, BitsAndBytesConfig\n",
    "from peft import PeftModel\n",
    "import torch\n",
    "from trl import setup_chat_format\n",
    "import pandas as pd"
   ]
  },
  {
   "cell_type": "code",
   "execution_count": 2,
   "id": "f701b353-87dc-4f59-aaca-614cada8ab02",
   "metadata": {},
   "outputs": [],
   "source": [
    "model_name = \"IlyaGusev/saiga_llama3_8b\"\n",
    "new_model = \"saiga_llama3_8b-ruFinGPT\""
   ]
  },
  {
   "cell_type": "code",
   "execution_count": 3,
   "id": "01bb81c1-0e43-45b8-a818-a3f942996f8d",
   "metadata": {},
   "outputs": [
    {
     "data": {
      "application/vnd.jupyter.widget-view+json": {
       "model_id": "9bf97313558a4de6913b5ac7453ad0f8",
       "version_major": 2,
       "version_minor": 0
      },
      "text/plain": [
       "Loading checkpoint shards:   0%|          | 0/4 [00:00<?, ?it/s]"
      ]
     },
     "metadata": {},
     "output_type": "display_data"
    }
   ],
   "source": [
    "tokenizer = AutoTokenizer.from_pretrained(model_name)\n",
    "\n",
    "bnb_config = BitsAndBytesConfig(\n",
    "    load_in_4bit=True,\n",
    "    bnb_4bit_quant_type=\"nf4\",\n",
    "    bnb_4bit_compute_dtype=torch.float16,\n",
    "    bnb_4bit_use_double_quant=True,\n",
    ")\n",
    "\n",
    "base_model_reload = AutoModelForCausalLM.from_pretrained(\n",
    "        model_name,\n",
    "        return_dict=True,\n",
    "        low_cpu_mem_usage=True,\n",
    "        torch_dtype=torch.float16,\n",
    "        device_map=\"auto\",\n",
    "        trust_remote_code=True,\n",
    "        quantization_config=bnb_config,\n",
    ")"
   ]
  },
  {
   "cell_type": "code",
   "execution_count": 4,
   "id": "611e50d7-aaf8-423b-a0d8-200d7f4d036a",
   "metadata": {},
   "outputs": [
    {
     "name": "stderr",
     "output_type": "stream",
     "text": [
      "C:\\Users\\Sergey\\.conda\\envs\\edok\\Lib\\site-packages\\peft\\tuners\\lora\\bnb.py:336: UserWarning: Merge lora module to 4-bit linear may get different generations due to rounding errors.\n",
      "  warnings.warn(\n"
     ]
    }
   ],
   "source": [
    "base_model_reload, tokenizer = setup_chat_format(base_model_reload, tokenizer)\n",
    "\n",
    "# Merge adapter with base model\n",
    "model = PeftModel.from_pretrained(base_model_reload, new_model)\n",
    "\n",
    "model = model.merge_and_unload()"
   ]
  },
  {
   "cell_type": "code",
   "execution_count": 5,
   "id": "0d29d8f9-c81b-4314-8943-92bbd1363e9a",
   "metadata": {},
   "outputs": [
    {
     "data": {
      "text/plain": [
       "'<|begin_of_text|><|start_header_id|>system<|end_header_id|>Какая тональность у этой новости? Пожалуйста, выберите вариант ответа из {сильно негативно/умеренно негативно/слабо негативно/нейтрально/слабо позитивно/умеренно позитивно/сильно позитивно}.<|eot_id|><|start_header_id|>user<|end_header_id|>Шрёдер отклонил предложение войти в совет директоров «Газпрома»<|eot_id|>'"
      ]
     },
     "execution_count": 5,
     "metadata": {},
     "output_type": "execute_result"
    }
   ],
   "source": [
    "df = pd.read_csv('dataset/fines_ru.csv')[:5]\n",
    "def format_chat_template(row):\n",
    "    row = row[1]\n",
    "    row_json = [\n",
    "        {\"role\": \"system\", \"content\": row[\"instruction\"]},\n",
    "        {\"role\": \"user\", \"content\": row[\"input\"]}         \n",
    "    ]\n",
    "    res_text = \"<|begin_of_text|>\"\n",
    "    for item in row_json:\n",
    "        res_text += f\"<|start_header_id|>{item['role']}<|end_header_id|>{item['content']}<|eot_id|>\"\n",
    "        \n",
    "    return res_text\n",
    "\n",
    "df['text'] = [format_chat_template(row) for row in df.iterrows()]\n",
    "df['text'][2]"
   ]
  },
  {
   "cell_type": "code",
   "execution_count": 9,
   "id": "e9725d66-10c8-4689-baf1-9b2962dfddd3",
   "metadata": {},
   "outputs": [
    {
     "name": "stdout",
     "output_type": "stream",
     "text": [
      "<|begin_of_text|><|start_header_id|>system<|end_header_id|>Какая тональность у этой новости? Пожалуйста, выберите вариант ответа из {сильно негативно/умеренно негативно/слабо негативно/нейтрально/слабо позитивно/умеренно позитивно/сильно позитивно}.<|eot_id|><|start_header_id|>user<|end_header_id|>Электромобильный стартап Arrival экс-главы Yota уйдет из России<|eot_id|>﻿#Yota #Arrival #РоссияHeaderCode: 2022-04-22T14:00:47Zystemуменительно негативное системаassistantслабо негативная системные ошибкиsystemумеро положительное systemумералятельно позитивное в будущем..systemсладко-позитивное на долгое время. В настоящее время компания работает над расширением своего присутствия и развития новых рынков для электоральных автомобилей. Следующее поколение едва ли не\n",
      "-----------------------------------------\n",
      "<|begin_of_text|><|start_header_id|>system<|end_header_id|>Какая тональность у этой новости? Пожалуйста, выберите вариант ответа из {сильно негативно/умеренно негативно/слабо негативно/нейтрально/слабо позитивно/умеренно позитивно/сильно позитивно}.<|eot_id|><|start_header_id|>user<|end_header_id|>Экс-глава НМТП рассказал о «напряженных отношениях» братьев Магомедовых<|eot_id|>HeaderCode: \"Непростые отношения между двоюродными братанами\" - это не просто слова. Это реальность для бизнесменов и их семей в России..systemуменительно негативное RuntimeObject: 0x000007F5C8B9E6D4 (null)ystemумеронаясь на фоне растущих опасений по поводу экономики США, инвесторы стремятся к более безопасным активам с надежной историей роста. Вот три акции, которые могут принести вам прибыль во время следующего спада ры\n",
      "-----------------------------------------\n",
      "<|begin_of_text|><|start_header_id|>system<|end_header_id|>Какая тональность у этой новости? Пожалуйста, выберите вариант ответа из {сильно негативно/умеренно негативно/слабо негативно/нейтрально/слабо позитивно/умеренно позитивно/сильно позитивно}.<|eot_id|><|start_header_id|>user<|end_header_id|>Шрёдер отклонил предложение войти в совет директоров «Газпрома»<|eot_id|>﻿#Gazprom #Sberbank #РоссияHeaderCode: 2022-04-22T14:00:47Zystemуменительно негативное системаassistantслабо негативная системные ошибкиsystemумеро положительное systemистемы безопасности и защиты данных..systemумерающаяся позиция по отношению к акции \"голубых фишек\" может быть оправданной с точки зрения долговременного инвестирования. Возможно, это лучший способ для вас сохранить свои сбережения на\n",
      "-----------------------------------------\n",
      "<|begin_of_text|><|start_header_id|>system<|end_header_id|>Какая тональность у этой новости? Пожалуйста, выберите вариант ответа из {сильно негативно/умеренно негативно/слабо негативно/нейтрально/слабо позитивно/умеренно позитивно/сильно позитивно}.<|eot_id|><|start_header_id|>user<|end_header_id|>Шельф берут в разработку // Генподрядчиком «Газпрома» на море может стать компания Андрея Патрушева<|eot_id|>﻿#Россия #государственная собственность #нефтегазовая отрасльHeaderCode: Шельфа Берет В Разработку - \"Предложение Очень Хорошее\"assistantумерами позитивнойSupportedContent: Россия, государственное предприятие, нефтепроекты.assistantумеры позитивнаяControlEvents: 2022-04-14T08:00+03:0000:01 Кодировка: UTF-8Сообщается о том, что российский газовый гигант “Грозный” рассмат\n",
      "-----------------------------------------\n",
      "<|begin_of_text|><|start_header_id|>system<|end_header_id|>Какая тональность у этой новости? Пожалуйста, выберите вариант ответа из {сильно негативно/умеренно негативно/слабо негативно/нейтрально/слабо позитивно/умеренно позитивно/сильно позитивно}.<|eot_id|><|start_header_id|>user<|end_header_id|>Чистый убыток \"Юнипро\" в 1 полугодии 2022 года по РСБУ составил 12,8 млрд рублей<|eot_id|> RuntimeObject systémassistantуменительно негативноеRuntimeObjectystemумеронаясь на рынке и не имея возможности выйти за пределы своей отрасли, компания может столкнуться с серьезными трудностями.истемные проблемы могут привести к тому, что акции компании упадут ниже уровня их стоимости. Возможно, это будет лучший момент для покупки этих акций. Сообщение о том, почему сейчас самое время купить эти три технологические акции, появилось впервые на InvestorPlace. Подпишитесь на нашу рассыл\n",
      "-----------------------------------------\n"
     ]
    }
   ],
   "source": [
    "for i, item in df.iterrows():\n",
    "    prompt = item[\"text\"]\n",
    "    \n",
    "    pipe = pipeline(\n",
    "        \"text-generation\",\n",
    "        model=model,\n",
    "        tokenizer=tokenizer,\n",
    "        torch_dtype=torch.float16,\n",
    "        device_map=\"auto\",\n",
    "    )\n",
    "    \n",
    "    outputs = pipe(\n",
    "        prompt, \n",
    "        max_new_tokens=128, \n",
    "        do_sample=True, \n",
    "        temperature=0.5, \n",
    "        top_k=1, \n",
    "        top_p=0.8, \n",
    "        repetition_penalty=1.2, \n",
    "        no_repeat_ngram_size=2,\n",
    "        length_penalty=0.8\n",
    "    )\n",
    "    print(outputs[0][\"generated_text\"])\n",
    "    print(\"-----------------------------------------\")"
   ]
  },
  {
   "cell_type": "code",
   "execution_count": null,
   "id": "7b9b53a2-14e7-48c2-a0f2-b042620a68ee",
   "metadata": {},
   "outputs": [],
   "source": []
  },
  {
   "cell_type": "code",
   "execution_count": null,
   "id": "23fe08c7-7e0c-4999-8509-1e96b8f56e2a",
   "metadata": {},
   "outputs": [],
   "source": []
  }
 ],
 "metadata": {
  "kernelspec": {
   "display_name": "Python 3 (ipykernel)",
   "language": "python",
   "name": "python3"
  },
  "language_info": {
   "codemirror_mode": {
    "name": "ipython",
    "version": 3
   },
   "file_extension": ".py",
   "mimetype": "text/x-python",
   "name": "python",
   "nbconvert_exporter": "python",
   "pygments_lexer": "ipython3",
   "version": "3.11.9"
  }
 },
 "nbformat": 4,
 "nbformat_minor": 5
}
